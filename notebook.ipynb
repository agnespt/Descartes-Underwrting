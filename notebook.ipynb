{
 "cells": [
  {
   "cell_type": "markdown",
   "id": "22ac42bd",
   "metadata": {},
   "source": [
    "# Descartes Underwriting -  techinical test "
   ]
  },
  {
   "cell_type": "markdown",
   "id": "48e2829d",
   "metadata": {},
   "source": [
    "##  A - Reading of the data"
   ]
  },
  {
   "cell_type": "code",
   "execution_count": 1,
   "id": "fd5ef177",
   "metadata": {},
   "outputs": [],
   "source": [
    "import pandas as pd\n",
    "import os\n",
    "import numpy as np"
   ]
  },
  {
   "cell_type": "code",
   "execution_count": 2,
   "id": "0687ab59",
   "metadata": {},
   "outputs": [],
   "source": [
    "df_train = pd.read_csv('train_auto.csv')\n",
    "df_test = pd.read_csv('test_auto.csv')"
   ]
  },
  {
   "cell_type": "markdown",
   "id": "9e31e6c6",
   "metadata": {},
   "source": [
    "### Data formating"
   ]
  },
  {
   "cell_type": "code",
   "execution_count": 3,
   "id": "99386c56",
   "metadata": {},
   "outputs": [],
   "source": [
    "# Drop the column indexes\n",
    "df_train = df_train.drop(columns='INDEX')\n",
    "index_test = df_test['INDEX']\n",
    "df_test = df_test.drop(columns='INDEX')"
   ]
  },
  {
   "cell_type": "code",
   "execution_count": 4,
   "id": "d0cdae2c",
   "metadata": {},
   "outputs": [
    {
     "name": "stderr",
     "output_type": "stream",
     "text": [
      "/tmp/ipykernel_9467/2196539132.py:2: FutureWarning: The default value of regex will change from True to False in a future version. In addition, single character regular expressions will*not* be treated as literal strings when regex=True.\n",
      "  df_train['INCOME'] = df_train['INCOME'].str.replace('$', '')\n",
      "/tmp/ipykernel_9467/2196539132.py:3: FutureWarning: The default value of regex will change from True to False in a future version. In addition, single character regular expressions will*not* be treated as literal strings when regex=True.\n",
      "  df_train['HOME_VAL'] = df_train['HOME_VAL'].str.replace('$', '')\n",
      "/tmp/ipykernel_9467/2196539132.py:4: FutureWarning: The default value of regex will change from True to False in a future version. In addition, single character regular expressions will*not* be treated as literal strings when regex=True.\n",
      "  df_train['BLUEBOOK'] = df_train['BLUEBOOK'].str.replace('$', '')\n",
      "/tmp/ipykernel_9467/2196539132.py:5: FutureWarning: The default value of regex will change from True to False in a future version. In addition, single character regular expressions will*not* be treated as literal strings when regex=True.\n",
      "  df_train['OLDCLAIM'] = df_train['OLDCLAIM'].str.replace('$', '')\n",
      "/tmp/ipykernel_9467/2196539132.py:7: FutureWarning: The default value of regex will change from True to False in a future version. In addition, single character regular expressions will*not* be treated as literal strings when regex=True.\n",
      "  df_test['INCOME'] = df_test['INCOME'].str.replace('$', '')\n",
      "/tmp/ipykernel_9467/2196539132.py:8: FutureWarning: The default value of regex will change from True to False in a future version. In addition, single character regular expressions will*not* be treated as literal strings when regex=True.\n",
      "  df_test['HOME_VAL'] = df_test['HOME_VAL'].str.replace('$', '')\n",
      "/tmp/ipykernel_9467/2196539132.py:9: FutureWarning: The default value of regex will change from True to False in a future version. In addition, single character regular expressions will*not* be treated as literal strings when regex=True.\n",
      "  df_test['BLUEBOOK'] = df_test['BLUEBOOK'].str.replace('$', '')\n",
      "/tmp/ipykernel_9467/2196539132.py:10: FutureWarning: The default value of regex will change from True to False in a future version. In addition, single character regular expressions will*not* be treated as literal strings when regex=True.\n",
      "  df_test['OLDCLAIM'] = df_test['OLDCLAIM'].str.replace('$', '')\n"
     ]
    }
   ],
   "source": [
    "# Remove dollars\n",
    "df_train['INCOME'] = df_train['INCOME'].str.replace('$', '')\n",
    "df_train['HOME_VAL'] = df_train['HOME_VAL'].str.replace('$', '')\n",
    "df_train['BLUEBOOK'] = df_train['BLUEBOOK'].str.replace('$', '')\n",
    "df_train['OLDCLAIM'] = df_train['OLDCLAIM'].str.replace('$', '')\n",
    "\n",
    "df_test['INCOME'] = df_test['INCOME'].str.replace('$', '')\n",
    "df_test['HOME_VAL'] = df_test['HOME_VAL'].str.replace('$', '')\n",
    "df_test['BLUEBOOK'] = df_test['BLUEBOOK'].str.replace('$', '')\n",
    "df_test['OLDCLAIM'] = df_test['OLDCLAIM'].str.replace('$', '')"
   ]
  },
  {
   "cell_type": "code",
   "execution_count": 5,
   "id": "215ce02e",
   "metadata": {},
   "outputs": [],
   "source": [
    "# Replace comma by dot\n",
    "df_train['INCOME'] = df_train['INCOME'].str.replace(',', '.')\n",
    "df_train['HOME_VAL'] = df_train['HOME_VAL'].str.replace(',', '.')\n",
    "df_train['BLUEBOOK'] = df_train['BLUEBOOK'].str.replace(',', '.')\n",
    "df_train['OLDCLAIM'] = df_train['OLDCLAIM'].str.replace(',', '.')\n",
    "\n",
    "df_test['INCOME'] = df_test['INCOME'].str.replace(',', '.')\n",
    "df_test['HOME_VAL'] = df_test['HOME_VAL'].str.replace(',', '.')\n",
    "df_test['BLUEBOOK'] = df_test['BLUEBOOK'].str.replace(',', '.')\n",
    "df_test['OLDCLAIM'] = df_test['OLDCLAIM'].str.replace(',', '.')"
   ]
  },
  {
   "cell_type": "code",
   "execution_count": 6,
   "id": "8deb7b75",
   "metadata": {},
   "outputs": [],
   "source": [
    "# Convert data type from object to float\n",
    "df_train['INCOME'] = pd.to_numeric(df_train['INCOME'])\n",
    "df_train['HOME_VAL'] = pd.to_numeric(df_train['HOME_VAL'])\n",
    "df_train['BLUEBOOK'] = pd.to_numeric(df_train['BLUEBOOK'])\n",
    "df_train['OLDCLAIM'] = pd.to_numeric(df_train['OLDCLAIM'])\n",
    "\n",
    "df_test['INCOME'] = pd.to_numeric(df_test['INCOME'])\n",
    "df_test['HOME_VAL'] = pd.to_numeric(df_test['HOME_VAL'])\n",
    "df_test['BLUEBOOK'] = pd.to_numeric(df_test['BLUEBOOK'])\n",
    "df_test['OLDCLAIM'] = pd.to_numeric(df_test['OLDCLAIM'])"
   ]
  },
  {
   "cell_type": "code",
   "execution_count": 7,
   "id": "406c5bb2",
   "metadata": {},
   "outputs": [],
   "source": [
    "# Remove weird characters\n",
    "df_train['MSTATUS'] = df_train['MSTATUS'].str.replace('z_', '')\n",
    "df_train['SEX'] = df_train['SEX'].str.replace('z_', '')\n",
    "df_train['EDUCATION'] = df_train['EDUCATION'].str.replace('z_', '')\n",
    "df_train['EDUCATION'] = df_train['EDUCATION'].str.replace('<', '')\n",
    "df_train['JOB'] = df_train['JOB'].str.replace('z_', '')\n",
    "df_train['CAR_TYPE'] = df_train['CAR_TYPE'].str.replace('z_', '')\n",
    "df_train['URBANICITY'] = df_train['URBANICITY'].str.replace('z_', '')\n",
    "\n",
    "df_test['MSTATUS'] = df_test['MSTATUS'].str.replace('z_', '')\n",
    "df_test['SEX'] = df_test['SEX'].str.replace('z_', '')\n",
    "df_test['EDUCATION'] = df_test['EDUCATION'].str.replace('z_', '')\n",
    "df_test['EDUCATION'] = df_test['EDUCATION'].str.replace('<', '')\n",
    "df_test['JOB'] = df_test['JOB'].str.replace('z_', '')\n",
    "df_test['CAR_TYPE'] = df_test['CAR_TYPE'].str.replace('z_', '')\n",
    "df_test['URBANICITY'] = df_test['URBANICITY'].str.replace('z_', '')"
   ]
  },
  {
   "cell_type": "code",
   "execution_count": 8,
   "id": "d6007e5f",
   "metadata": {},
   "outputs": [],
   "source": [
    "df_train['EDUCATION'] = df_train['EDUCATION'].str.replace('High School', 'High_School')\n",
    "df_train['JOB'] = df_train['JOB'].str.replace('Blue Collar', 'Blue_Collar').str.replace('Home Maker', 'Home_Maker')\n",
    "df_train['CAR_TYPE'] = df_train['CAR_TYPE'].str.replace('Panel Truck', 'Panel_Truck').str.replace('Sports Car', 'Sports_Car')\n",
    "df_train['URBANICITY'] = df_train['URBANICITY'].str.replace('Highly Urban/ Urban', 'Urban').str.replace('Highly Rural/ Rural', 'Rural')\n",
    "\n",
    "df_test['EDUCATION'] = df_test['EDUCATION'].str.replace('High School', 'High_School')\n",
    "df_test['JOB'] = df_test['JOB'].str.replace('Blue Collar', 'Blue_Collar').str.replace('Home Maker', 'Home_Maker')\n",
    "df_test['CAR_TYPE'] = df_test['CAR_TYPE'].str.replace('Panel Truck', 'Panel_Truck').str.replace('Sports Car', 'Sports_Car')\n",
    "df_test['URBANICITY'] = df_test['URBANICITY'].str.replace('Highly Urban/ Urban', 'Urban').str.replace('Highly Rural/ Rural', 'Rural')"
   ]
  },
  {
   "cell_type": "code",
   "execution_count": 9,
   "id": "5ec41b72",
   "metadata": {},
   "outputs": [],
   "source": [
    "# From string to int \n",
    "df_train['PARENT1'] = df_train['PARENT1'].map(dict(Yes=1, No=0))\n",
    "df_train['RED_CAR'] = df_train['RED_CAR'].map(dict(yes=1, no=0))\n",
    "df_train['MSTATUS'] = df_train['MSTATUS'].map(dict(Yes=1, No=0))\n",
    "df_train['SEX'] = df_train['SEX'].map(dict(M=1, F=0))\n",
    "df_train['CAR_USE'] = df_train['CAR_USE'].map(dict(Commercial=1, Private=0))\n",
    "df_train['REVOKED'] = df_train['REVOKED'].map(dict(Yes=1, No=0))\n",
    "df_train['URBANICITY'] = df_train['URBANICITY'].map(dict(Urban=1, Rural=0))\n",
    "\n",
    "df_test['PARENT1'] = df_test['PARENT1'].map(dict(Yes=1, No=0))\n",
    "df_test['RED_CAR'] = df_test['RED_CAR'].map(dict(yes=1, no=0))\n",
    "df_test['MSTATUS'] = df_test['MSTATUS'].map(dict(Yes=1, No=0))\n",
    "df_test['SEX'] = df_test['SEX'].map(dict(M=1, F=0))\n",
    "df_test['CAR_USE'] = df_test['CAR_USE'].map(dict(Commercial=1, Private=0))\n",
    "df_test['REVOKED'] = df_test['REVOKED'].map(dict(Yes=1, No=0))\n",
    "df_test['URBANICITY'] = df_test['URBANICITY'].map(dict(Urban=1, Rural=0))"
   ]
  },
  {
   "cell_type": "code",
   "execution_count": 10,
   "id": "f987a004",
   "metadata": {},
   "outputs": [],
   "source": [
    "# From string to float \n",
    "df_train['EDUCATION'] = df_train['EDUCATION'].map(dict(High_School=0, Bachelors=1, Masters=2, PhD=3))\n",
    "df_train['JOB'] = df_train['JOB'].map(dict(Professional=0, Blue_Collar=1, Clerical=2, Doctor=3, Lawyer=4, Manager=5, Home_Maker=6, Student=7))\n",
    "df_train['CAR_TYPE'] = df_train['CAR_TYPE'].map(dict(Minivan=0, SUV=1, Sports_Car=2, Panel_Truck=3, Pickup=4, Van=5))\n",
    "\n",
    "df_test['EDUCATION'] = df_test['EDUCATION'].map(dict(High_School=0, Bachelors=1, Masters=2, PhD=3))\n",
    "df_test['JOB'] = df_test['JOB'].map(dict(Professional=0, Blue_Collar=1, Clerical=2, Doctor=3, Lawyer=4, Manager=5, Home_Maker=6, Student=7))\n",
    "df_test['CAR_TYPE'] = df_test['CAR_TYPE'].map(dict(Minivan=0, SUV=1, Sports_Car=2, Panel_Truck=3, Pickup=4, Van=5))"
   ]
  },
  {
   "cell_type": "markdown",
   "id": "8598116c",
   "metadata": {},
   "source": [
    "## B - Classification using sckit-learn\n",
    "## The goal is to predict wheither the client will make an insurance claim - TARGET_FLAG"
   ]
  },
  {
   "cell_type": "markdown",
   "id": "94547807",
   "metadata": {},
   "source": [
    "### Data scalling, and filling missing values"
   ]
  },
  {
   "cell_type": "code",
   "execution_count": 11,
   "id": "1a00df7e",
   "metadata": {},
   "outputs": [],
   "source": [
    "# Definition of the training data and the associated label\n",
    "X = df_train.drop(columns=['TARGET_FLAG', 'TARGET_AMT'])\n",
    "y = df_train['TARGET_FLAG']\n",
    "# Definition of the data to use for the prediction\n",
    "X_pred = df_test.drop(columns=['TARGET_FLAG', 'TARGET_AMT'])"
   ]
  },
  {
   "cell_type": "code",
   "execution_count": 12,
   "id": "9231d326",
   "metadata": {},
   "outputs": [],
   "source": [
    "# Scaling of the training and prediction data\n",
    "from sklearn import preprocessing\n",
    "scaler = preprocessing.StandardScaler().fit(X)\n",
    "X = scaler.transform(X)\n",
    "X_pred = scaler.transform(X_pred)"
   ]
  },
  {
   "cell_type": "code",
   "execution_count": 13,
   "id": "44510002",
   "metadata": {},
   "outputs": [],
   "source": [
    "# Filling missing values of the training and prediction data\n",
    "from sklearn.impute import SimpleImputer\n",
    "imputer = SimpleImputer(missing_values=np.nan, strategy='mean')\n",
    "X = imputer.fit_transform(X)\n",
    "X_pred = imputer.transform(X_pred)"
   ]
  },
  {
   "cell_type": "code",
   "execution_count": 14,
   "id": "0b4b82af",
   "metadata": {},
   "outputs": [],
   "source": [
    "# Splitting the training data in order to score the algorithm using data not already used in the training\n",
    "from sklearn.model_selection import train_test_split\n",
    "X_train, X_test, y_train, y_test = train_test_split(X, y, test_size=0.33, random_state=0)"
   ]
  },
  {
   "cell_type": "markdown",
   "id": "f95dd7bb",
   "metadata": {},
   "source": [
    "### Five algorithms are tested"
   ]
  },
  {
   "cell_type": "code",
   "execution_count": 15,
   "id": "727c779f",
   "metadata": {},
   "outputs": [
    {
     "data": {
      "text/plain": [
       "0.7683741648106904"
      ]
     },
     "execution_count": 15,
     "metadata": {},
     "output_type": "execute_result"
    }
   ],
   "source": [
    "# K-Nearest Neighbor\n",
    "from sklearn.neighbors import KNeighborsClassifier\n",
    "neigh = KNeighborsClassifier(n_neighbors=10)\n",
    "neigh.fit(X_train, y_train)\n",
    "neigh.score(X_test, y_test)"
   ]
  },
  {
   "cell_type": "code",
   "execution_count": 16,
   "id": "a8991e6e",
   "metadata": {},
   "outputs": [
    {
     "data": {
      "text/plain": [
       "0.7683741648106904"
      ]
     },
     "execution_count": 16,
     "metadata": {},
     "output_type": "execute_result"
    }
   ],
   "source": [
    "# Gaussian Naive Bayes\n",
    "from sklearn.naive_bayes import GaussianNB\n",
    "gnb = GaussianNB()\n",
    "gnb.fit(X_train, y_train)\n",
    "neigh.score(X_test, y_test)"
   ]
  },
  {
   "cell_type": "code",
   "execution_count": 17,
   "id": "4e0eaf88",
   "metadata": {},
   "outputs": [
    {
     "name": "stdout",
     "output_type": "stream",
     "text": [
      "0.7848302904055876 {'C': 10}\n"
     ]
    }
   ],
   "source": [
    "# Regression logistique -- Several values of the regularization parameter are tested\n",
    "from sklearn.model_selection import GridSearchCV\n",
    "from sklearn.linear_model import LogisticRegression\n",
    "parameters = {'C':[0.01, 0.1, 1, 10, 100]}\n",
    "log = LogisticRegression(random_state=0)\n",
    "clf = GridSearchCV(log, parameters)\n",
    "clf.fit(X, y)\n",
    "print(clf.score(X, y), clf.best_params_)"
   ]
  },
  {
   "cell_type": "code",
   "execution_count": 18,
   "id": "b188e7cf",
   "metadata": {},
   "outputs": [
    {
     "name": "stdout",
     "output_type": "stream",
     "text": [
      "0.8283298615365764 {'C': 1, 'kernel': 'rbf'}\n"
     ]
    }
   ],
   "source": [
    "# Support vector machine -- Two different kernels and several values of the regularization parameter are tested\n",
    "from sklearn.svm import SVC\n",
    "parameters = {'kernel':('linear', 'rbf'), 'C':[0.1, 1, 10]}\n",
    "svc = SVC()\n",
    "clf = GridSearchCV(svc, parameters)\n",
    "clf.fit(X, y)\n",
    "print(clf.score(X, y), clf.best_params_)"
   ]
  },
  {
   "cell_type": "code",
   "execution_count": 19,
   "id": "c7e34a54",
   "metadata": {},
   "outputs": [
    {
     "name": "stdout",
     "output_type": "stream",
     "text": [
      "0.9788016174488421 {'max_depth': 15, 'n_estimators': 150}\n"
     ]
    }
   ],
   "source": [
    "# RandomForest -- Several numbers and depths of trees are tested\n",
    "from sklearn.ensemble import RandomForestClassifier\n",
    "parameters = {'n_estimators': [10, 50, 100, 150], 'max_depth': [10, 15, 20]}\n",
    "regr = RandomForestClassifier(random_state=0)\n",
    "clf = GridSearchCV(regr, parameters)\n",
    "clf.fit(X, y)\n",
    "print(clf.score(X, y), clf.best_params_)"
   ]
  },
  {
   "cell_type": "markdown",
   "id": "542bea2d",
   "metadata": {},
   "source": [
    "### The best score is associated with the RandomForest classifier. \n",
    "### The values  associated with the prediction data are computed"
   ]
  },
  {
   "cell_type": "code",
   "execution_count": 20,
   "id": "ca5571e5",
   "metadata": {},
   "outputs": [],
   "source": [
    "val_TARGET_FLAG = clf.predict(X_pred)"
   ]
  },
  {
   "cell_type": "markdown",
   "id": "d9d5f26f",
   "metadata": {},
   "source": [
    "## C - Regression using sckit-learn\n",
    "## The goal is to predict the sum the client will claim to the insurance - TARGET_AMT"
   ]
  },
  {
   "cell_type": "markdown",
   "id": "52c13976",
   "metadata": {},
   "source": [
    "### Data scalling, and filling missing values"
   ]
  },
  {
   "cell_type": "code",
   "execution_count": 21,
   "id": "70bfaa08",
   "metadata": {},
   "outputs": [],
   "source": [
    "# Definition of the training data and the associated label\n",
    "X = df_train.drop(columns=['TARGET_AMT'])\n",
    "y = df_train['TARGET_AMT']\n",
    "# Definition of the data to use for the prediction\n",
    "X_pred = df_test.drop(columns=['TARGET_AMT'])\n",
    "X_pred['TARGET_FLAG'] = val_TARGET_FLAG"
   ]
  },
  {
   "cell_type": "code",
   "execution_count": 22,
   "id": "c621a357",
   "metadata": {},
   "outputs": [],
   "source": [
    "# Scaling of the training and prediction data\n",
    "from sklearn import preprocessing\n",
    "scaler = preprocessing.StandardScaler().fit(X)\n",
    "X = scaler.transform(X)\n",
    "X_pred = scaler.transform(X_pred)"
   ]
  },
  {
   "cell_type": "code",
   "execution_count": 23,
   "id": "a30cfe89",
   "metadata": {},
   "outputs": [],
   "source": [
    "# Filling missing values of the training and prediction data\n",
    "from sklearn.impute import SimpleImputer\n",
    "imputer = SimpleImputer(missing_values=np.nan, strategy='mean')\n",
    "X = imputer.fit_transform(X)\n",
    "X_pred = imputer.transform(X_pred)"
   ]
  },
  {
   "cell_type": "markdown",
   "id": "2e947528",
   "metadata": {},
   "source": [
    "### Five algorithms are tested"
   ]
  },
  {
   "cell_type": "code",
   "execution_count": 24,
   "id": "4b438758",
   "metadata": {},
   "outputs": [
    {
     "name": "stdout",
     "output_type": "stream",
     "text": [
      "0.29063991748622564 {'alpha': 100}\n"
     ]
    }
   ],
   "source": [
    "# Ridge Regression - Several values of the regularization parameter are tested\n",
    "from sklearn.linear_model import Ridge\n",
    "parameters = {'alpha':[0.01, 0.1, 1, 10, 100, 1000, 10000]}\n",
    "reg = Ridge()\n",
    "clf = GridSearchCV(reg, parameters)\n",
    "clf.fit(X, y)\n",
    "print(clf.score(X, y), clf.best_params_)"
   ]
  },
  {
   "cell_type": "code",
   "execution_count": 25,
   "id": "897b8814",
   "metadata": {},
   "outputs": [
    {
     "name": "stdout",
     "output_type": "stream",
     "text": [
      "0.2871787492661648 {'alpha': 100}\n"
     ]
    }
   ],
   "source": [
    "# Lasso Regression - Several values of the regularization parameter are tested\n",
    "from sklearn.linear_model import Lasso\n",
    "parameters = {'alpha':[0.01, 0.1, 1, 10, 100, 1000, 10000]}\n",
    "reg = Lasso()\n",
    "clf = GridSearchCV(reg, parameters)\n",
    "clf.fit(X, y)\n",
    "print(clf.score(X, y), clf.best_params_)"
   ]
  },
  {
   "cell_type": "code",
   "execution_count": 26,
   "id": "86fa6a84",
   "metadata": {},
   "outputs": [
    {
     "name": "stdout",
     "output_type": "stream",
     "text": [
      "0.2509561845187067 {'C': 10, 'kernel': 'linear'}\n"
     ]
    }
   ],
   "source": [
    "# Support vector machine -- Two different kernels and several values of the regularization parameter are tested\n",
    "# The results are slow to compute\n",
    "from sklearn.svm import SVR\n",
    "parameters = {'kernel': ('linear', 'rbf'), 'C': [0.1, 1, 10]}\n",
    "svc = SVR()\n",
    "clf = GridSearchCV(svc, parameters)\n",
    "clf.fit(X, y)\n",
    "print(clf.score(X, y), clf.best_params_)"
   ]
  },
  {
   "cell_type": "code",
   "execution_count": 27,
   "id": "3afd80cb",
   "metadata": {},
   "outputs": [
    {
     "name": "stderr",
     "output_type": "stream",
     "text": [
      "/home/agnes/.local/lib/python3.8/site-packages/sklearn/neural_network/_multilayer_perceptron.py:692: ConvergenceWarning: Stochastic Optimizer: Maximum iterations (200) reached and the optimization hasn't converged yet.\n",
      "  warnings.warn(\n",
      "/home/agnes/.local/lib/python3.8/site-packages/sklearn/neural_network/_multilayer_perceptron.py:692: ConvergenceWarning: Stochastic Optimizer: Maximum iterations (200) reached and the optimization hasn't converged yet.\n",
      "  warnings.warn(\n",
      "/home/agnes/.local/lib/python3.8/site-packages/sklearn/neural_network/_multilayer_perceptron.py:692: ConvergenceWarning: Stochastic Optimizer: Maximum iterations (200) reached and the optimization hasn't converged yet.\n",
      "  warnings.warn(\n",
      "/home/agnes/.local/lib/python3.8/site-packages/sklearn/neural_network/_multilayer_perceptron.py:692: ConvergenceWarning: Stochastic Optimizer: Maximum iterations (200) reached and the optimization hasn't converged yet.\n",
      "  warnings.warn(\n",
      "/home/agnes/.local/lib/python3.8/site-packages/sklearn/neural_network/_multilayer_perceptron.py:692: ConvergenceWarning: Stochastic Optimizer: Maximum iterations (200) reached and the optimization hasn't converged yet.\n",
      "  warnings.warn(\n",
      "/home/agnes/.local/lib/python3.8/site-packages/sklearn/neural_network/_multilayer_perceptron.py:692: ConvergenceWarning: Stochastic Optimizer: Maximum iterations (200) reached and the optimization hasn't converged yet.\n",
      "  warnings.warn(\n",
      "/home/agnes/.local/lib/python3.8/site-packages/sklearn/neural_network/_multilayer_perceptron.py:692: ConvergenceWarning: Stochastic Optimizer: Maximum iterations (200) reached and the optimization hasn't converged yet.\n",
      "  warnings.warn(\n",
      "/home/agnes/.local/lib/python3.8/site-packages/sklearn/neural_network/_multilayer_perceptron.py:692: ConvergenceWarning: Stochastic Optimizer: Maximum iterations (200) reached and the optimization hasn't converged yet.\n",
      "  warnings.warn(\n",
      "/home/agnes/.local/lib/python3.8/site-packages/sklearn/neural_network/_multilayer_perceptron.py:692: ConvergenceWarning: Stochastic Optimizer: Maximum iterations (200) reached and the optimization hasn't converged yet.\n",
      "  warnings.warn(\n",
      "/home/agnes/.local/lib/python3.8/site-packages/sklearn/neural_network/_multilayer_perceptron.py:692: ConvergenceWarning: Stochastic Optimizer: Maximum iterations (200) reached and the optimization hasn't converged yet.\n",
      "  warnings.warn(\n",
      "/home/agnes/.local/lib/python3.8/site-packages/sklearn/neural_network/_multilayer_perceptron.py:692: ConvergenceWarning: Stochastic Optimizer: Maximum iterations (200) reached and the optimization hasn't converged yet.\n",
      "  warnings.warn(\n",
      "/home/agnes/.local/lib/python3.8/site-packages/sklearn/neural_network/_multilayer_perceptron.py:692: ConvergenceWarning: Stochastic Optimizer: Maximum iterations (200) reached and the optimization hasn't converged yet.\n",
      "  warnings.warn(\n",
      "/home/agnes/.local/lib/python3.8/site-packages/sklearn/neural_network/_multilayer_perceptron.py:692: ConvergenceWarning: Stochastic Optimizer: Maximum iterations (200) reached and the optimization hasn't converged yet.\n",
      "  warnings.warn(\n",
      "/home/agnes/.local/lib/python3.8/site-packages/sklearn/neural_network/_multilayer_perceptron.py:692: ConvergenceWarning: Stochastic Optimizer: Maximum iterations (200) reached and the optimization hasn't converged yet.\n",
      "  warnings.warn(\n",
      "/home/agnes/.local/lib/python3.8/site-packages/sklearn/neural_network/_multilayer_perceptron.py:692: ConvergenceWarning: Stochastic Optimizer: Maximum iterations (200) reached and the optimization hasn't converged yet.\n",
      "  warnings.warn(\n",
      "/home/agnes/.local/lib/python3.8/site-packages/sklearn/neural_network/_multilayer_perceptron.py:692: ConvergenceWarning: Stochastic Optimizer: Maximum iterations (200) reached and the optimization hasn't converged yet.\n",
      "  warnings.warn(\n",
      "/home/agnes/.local/lib/python3.8/site-packages/sklearn/neural_network/_multilayer_perceptron.py:692: ConvergenceWarning: Stochastic Optimizer: Maximum iterations (200) reached and the optimization hasn't converged yet.\n",
      "  warnings.warn(\n",
      "/home/agnes/.local/lib/python3.8/site-packages/sklearn/neural_network/_multilayer_perceptron.py:692: ConvergenceWarning: Stochastic Optimizer: Maximum iterations (200) reached and the optimization hasn't converged yet.\n",
      "  warnings.warn(\n",
      "/home/agnes/.local/lib/python3.8/site-packages/sklearn/neural_network/_multilayer_perceptron.py:692: ConvergenceWarning: Stochastic Optimizer: Maximum iterations (200) reached and the optimization hasn't converged yet.\n",
      "  warnings.warn(\n",
      "/home/agnes/.local/lib/python3.8/site-packages/sklearn/neural_network/_multilayer_perceptron.py:692: ConvergenceWarning: Stochastic Optimizer: Maximum iterations (200) reached and the optimization hasn't converged yet.\n",
      "  warnings.warn(\n",
      "/home/agnes/.local/lib/python3.8/site-packages/sklearn/neural_network/_multilayer_perceptron.py:692: ConvergenceWarning: Stochastic Optimizer: Maximum iterations (200) reached and the optimization hasn't converged yet.\n",
      "  warnings.warn(\n",
      "/home/agnes/.local/lib/python3.8/site-packages/sklearn/neural_network/_multilayer_perceptron.py:692: ConvergenceWarning: Stochastic Optimizer: Maximum iterations (200) reached and the optimization hasn't converged yet.\n",
      "  warnings.warn(\n",
      "/home/agnes/.local/lib/python3.8/site-packages/sklearn/neural_network/_multilayer_perceptron.py:692: ConvergenceWarning: Stochastic Optimizer: Maximum iterations (200) reached and the optimization hasn't converged yet.\n",
      "  warnings.warn(\n",
      "/home/agnes/.local/lib/python3.8/site-packages/sklearn/neural_network/_multilayer_perceptron.py:692: ConvergenceWarning: Stochastic Optimizer: Maximum iterations (200) reached and the optimization hasn't converged yet.\n",
      "  warnings.warn(\n",
      "/home/agnes/.local/lib/python3.8/site-packages/sklearn/neural_network/_multilayer_perceptron.py:692: ConvergenceWarning: Stochastic Optimizer: Maximum iterations (200) reached and the optimization hasn't converged yet.\n",
      "  warnings.warn(\n",
      "/home/agnes/.local/lib/python3.8/site-packages/sklearn/neural_network/_multilayer_perceptron.py:692: ConvergenceWarning: Stochastic Optimizer: Maximum iterations (200) reached and the optimization hasn't converged yet.\n",
      "  warnings.warn(\n",
      "/home/agnes/.local/lib/python3.8/site-packages/sklearn/neural_network/_multilayer_perceptron.py:692: ConvergenceWarning: Stochastic Optimizer: Maximum iterations (200) reached and the optimization hasn't converged yet.\n",
      "  warnings.warn(\n",
      "/home/agnes/.local/lib/python3.8/site-packages/sklearn/neural_network/_multilayer_perceptron.py:692: ConvergenceWarning: Stochastic Optimizer: Maximum iterations (200) reached and the optimization hasn't converged yet.\n",
      "  warnings.warn(\n",
      "/home/agnes/.local/lib/python3.8/site-packages/sklearn/neural_network/_multilayer_perceptron.py:692: ConvergenceWarning: Stochastic Optimizer: Maximum iterations (200) reached and the optimization hasn't converged yet.\n",
      "  warnings.warn(\n",
      "/home/agnes/.local/lib/python3.8/site-packages/sklearn/neural_network/_multilayer_perceptron.py:692: ConvergenceWarning: Stochastic Optimizer: Maximum iterations (200) reached and the optimization hasn't converged yet.\n",
      "  warnings.warn(\n"
     ]
    },
    {
     "name": "stdout",
     "output_type": "stream",
     "text": [
      "0.2959049639387594 {'alpha': 10, 'hidden_layer_sizes': (10, 2)}\n"
     ]
    },
    {
     "name": "stderr",
     "output_type": "stream",
     "text": [
      "/home/agnes/.local/lib/python3.8/site-packages/sklearn/neural_network/_multilayer_perceptron.py:692: ConvergenceWarning: Stochastic Optimizer: Maximum iterations (200) reached and the optimization hasn't converged yet.\n",
      "  warnings.warn(\n"
     ]
    }
   ],
   "source": [
    "# Neural Network -- Several number and size of layers and values of the regularization parameter are tested\n",
    "# The algorithm does not converge\n",
    "# sklearn is not the best librairy to implement Neural Networks\n",
    "from sklearn.neural_network import MLPRegressor\n",
    "parameters = {'hidden_layer_sizes': [(10, 1), (10, 2), (10, 3)], 'alpha': [10, 100]} \n",
    "mlpr = MLPRegressor(random_state=0)\n",
    "clf = GridSearchCV(mlpr, parameters)\n",
    "clf.fit(X, y)\n",
    "print(clf.score(X, y), clf.best_params_)"
   ]
  },
  {
   "cell_type": "code",
   "execution_count": 28,
   "id": "8887ddc0",
   "metadata": {},
   "outputs": [
    {
     "name": "stdout",
     "output_type": "stream",
     "text": [
      "0.4013545627236259 {'max_depth': 5, 'n_estimators': 100}\n"
     ]
    }
   ],
   "source": [
    "# RandomForest -- Several numbers and depths of trees are tested\n",
    "from sklearn.ensemble import RandomForestRegressor\n",
    "parameters = {'n_estimators': [10, 50, 100, 150], 'max_depth': [5, 10, 15, 20]}\n",
    "regr = RandomForestRegressor(random_state=0)\n",
    "clf = GridSearchCV(regr, parameters)\n",
    "clf.fit(X, y)\n",
    "print(clf.score(X, y), clf.best_params_)"
   ]
  },
  {
   "cell_type": "markdown",
   "id": "c4cca55e",
   "metadata": {},
   "source": [
    "### The best score is associated with the RandomForest classifier. \n",
    "### The probabilities associated with the prediction data are computed"
   ]
  },
  {
   "cell_type": "code",
   "execution_count": 29,
   "id": "9b86717d",
   "metadata": {},
   "outputs": [],
   "source": [
    "val_TARGET_ATM = clf.predict(X_pred)"
   ]
  },
  {
   "cell_type": "markdown",
   "id": "6b74f2af",
   "metadata": {},
   "source": [
    "### The results are saved in a CSV file"
   ]
  },
  {
   "cell_type": "code",
   "execution_count": 30,
   "id": "b31b4b53",
   "metadata": {},
   "outputs": [],
   "source": [
    "df = pd.DataFrame({'TARGET_FLAG':val_TARGET_FLAG, 'TARGET_ATM':val_TARGET_ATM}, index=index_test)\n",
    "df.to_csv('test_auto_predictions.csv')"
   ]
  },
  {
   "cell_type": "code",
   "execution_count": null,
   "id": "cbe5e4a1",
   "metadata": {},
   "outputs": [],
   "source": []
  }
 ],
 "metadata": {
  "kernelspec": {
   "display_name": "Python 3 (ipykernel)",
   "language": "python",
   "name": "python3"
  },
  "language_info": {
   "codemirror_mode": {
    "name": "ipython",
    "version": 3
   },
   "file_extension": ".py",
   "mimetype": "text/x-python",
   "name": "python",
   "nbconvert_exporter": "python",
   "pygments_lexer": "ipython3",
   "version": "3.8.10"
  }
 },
 "nbformat": 4,
 "nbformat_minor": 5
}
